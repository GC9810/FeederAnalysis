{
 "cells": [
  {
   "cell_type": "code",
   "execution_count": 4,
   "metadata": {},
   "outputs": [
    {
     "name": "stdout",
     "output_type": "stream",
     "text": [
      "Requirement already satisfied: openpyxl in c:\\users\\gary\\appdata\\local\\programs\\python\\python310\\lib\\site-packages (3.0.10)\n",
      "Requirement already satisfied: et-xmlfile in c:\\users\\gary\\appdata\\local\\programs\\python\\python310\\lib\\site-packages (from openpyxl) (1.1.0)\n"
     ]
    }
   ],
   "source": [
    "! pip install openpyxl"
   ]
  },
  {
   "cell_type": "code",
   "execution_count": 5,
   "metadata": {},
   "outputs": [],
   "source": [
    "import pandas as pd"
   ]
  },
  {
   "cell_type": "code",
   "execution_count": 6,
   "metadata": {},
   "outputs": [
    {
     "name": "stdout",
     "output_type": "stream",
     "text": [
      "Opening  15kV Utility Feeder Loading 2014.xlsx\n"
     ]
    },
    {
     "name": "stderr",
     "output_type": "stream",
     "text": [
      "C:\\Users\\Gary\\AppData\\Local\\Temp\\ipykernel_27892\\2413836349.py:9: FutureWarning: The frame.append method is deprecated and will be removed from pandas in a future version. Use pandas.concat instead.\n",
      "  df = df.append(data)\n"
     ]
    },
    {
     "name": "stdout",
     "output_type": "stream",
     "text": [
      "Opening  15kV Utility Feeder Loading 2015.xlsx\n"
     ]
    },
    {
     "name": "stderr",
     "output_type": "stream",
     "text": [
      "C:\\Users\\Gary\\AppData\\Local\\Temp\\ipykernel_27892\\2413836349.py:9: FutureWarning: The frame.append method is deprecated and will be removed from pandas in a future version. Use pandas.concat instead.\n",
      "  df = df.append(data)\n"
     ]
    },
    {
     "name": "stdout",
     "output_type": "stream",
     "text": [
      "Opening  15kV Utility Feeder Loading 2016.xlsx\n"
     ]
    },
    {
     "name": "stderr",
     "output_type": "stream",
     "text": [
      "C:\\Users\\Gary\\AppData\\Local\\Temp\\ipykernel_27892\\2413836349.py:9: FutureWarning: The frame.append method is deprecated and will be removed from pandas in a future version. Use pandas.concat instead.\n",
      "  df = df.append(data)\n"
     ]
    },
    {
     "name": "stdout",
     "output_type": "stream",
     "text": [
      "Opening  15kV Utility Feeder Loading 2017.xlsx\n"
     ]
    },
    {
     "name": "stderr",
     "output_type": "stream",
     "text": [
      "C:\\Users\\Gary\\AppData\\Local\\Temp\\ipykernel_27892\\2413836349.py:9: FutureWarning: The frame.append method is deprecated and will be removed from pandas in a future version. Use pandas.concat instead.\n",
      "  df = df.append(data)\n"
     ]
    },
    {
     "name": "stdout",
     "output_type": "stream",
     "text": [
      "Opening  15kV Utility Feeder Loading 2018.xlsx\n"
     ]
    },
    {
     "name": "stderr",
     "output_type": "stream",
     "text": [
      "C:\\Users\\Gary\\AppData\\Local\\Temp\\ipykernel_27892\\2413836349.py:9: FutureWarning: The frame.append method is deprecated and will be removed from pandas in a future version. Use pandas.concat instead.\n",
      "  df = df.append(data)\n"
     ]
    },
    {
     "data": {
      "text/html": [
       "<div>\n",
       "<style scoped>\n",
       "    .dataframe tbody tr th:only-of-type {\n",
       "        vertical-align: middle;\n",
       "    }\n",
       "\n",
       "    .dataframe tbody tr th {\n",
       "        vertical-align: top;\n",
       "    }\n",
       "\n",
       "    .dataframe thead th {\n",
       "        text-align: right;\n",
       "    }\n",
       "</style>\n",
       "<table border=\"1\" class=\"dataframe\">\n",
       "  <thead>\n",
       "    <tr style=\"text-align: right;\">\n",
       "      <th></th>\n",
       "      <th>Time</th>\n",
       "      <th>1</th>\n",
       "      <th>2</th>\n",
       "      <th>3</th>\n",
       "      <th>4</th>\n",
       "      <th>5</th>\n",
       "      <th>6</th>\n",
       "      <th>7</th>\n",
       "      <th>8</th>\n",
       "      <th>9</th>\n",
       "      <th>...</th>\n",
       "      <th>394</th>\n",
       "      <th>395</th>\n",
       "      <th>396</th>\n",
       "      <th>397</th>\n",
       "      <th>398</th>\n",
       "      <th>399</th>\n",
       "      <th>400</th>\n",
       "      <th>401</th>\n",
       "      <th>402</th>\n",
       "      <th>403</th>\n",
       "    </tr>\n",
       "  </thead>\n",
       "  <tbody>\n",
       "    <tr>\n",
       "      <th>0</th>\n",
       "      <td>2014-01-01 01:00:00</td>\n",
       "      <td>120.571603</td>\n",
       "      <td>111.767169</td>\n",
       "      <td>94.704227</td>\n",
       "      <td>111.534600</td>\n",
       "      <td>112.324040</td>\n",
       "      <td>105.474302</td>\n",
       "      <td>116.819209</td>\n",
       "      <td>112.306686</td>\n",
       "      <td>94.855857</td>\n",
       "      <td>...</td>\n",
       "      <td>321.402590</td>\n",
       "      <td>21.135003</td>\n",
       "      <td>0.0</td>\n",
       "      <td>7.112277</td>\n",
       "      <td>0</td>\n",
       "      <td>0.0</td>\n",
       "      <td>0.0</td>\n",
       "      <td>0.0</td>\n",
       "      <td>0.0</td>\n",
       "      <td>0.0</td>\n",
       "    </tr>\n",
       "    <tr>\n",
       "      <th>1</th>\n",
       "      <td>2014-01-01 02:00:00</td>\n",
       "      <td>117.721674</td>\n",
       "      <td>109.209159</td>\n",
       "      <td>92.522162</td>\n",
       "      <td>108.762466</td>\n",
       "      <td>108.647752</td>\n",
       "      <td>102.547442</td>\n",
       "      <td>114.046784</td>\n",
       "      <td>109.675149</td>\n",
       "      <td>92.956992</td>\n",
       "      <td>...</td>\n",
       "      <td>311.390285</td>\n",
       "      <td>20.331148</td>\n",
       "      <td>0.0</td>\n",
       "      <td>7.041840</td>\n",
       "      <td>0</td>\n",
       "      <td>0.0</td>\n",
       "      <td>0.0</td>\n",
       "      <td>0.0</td>\n",
       "      <td>0.0</td>\n",
       "      <td>0.0</td>\n",
       "    </tr>\n",
       "    <tr>\n",
       "      <th>2</th>\n",
       "      <td>2014-01-01 03:00:00</td>\n",
       "      <td>115.322464</td>\n",
       "      <td>106.414135</td>\n",
       "      <td>91.410476</td>\n",
       "      <td>105.823125</td>\n",
       "      <td>107.199958</td>\n",
       "      <td>101.402505</td>\n",
       "      <td>111.645922</td>\n",
       "      <td>107.287682</td>\n",
       "      <td>91.244556</td>\n",
       "      <td>...</td>\n",
       "      <td>304.154413</td>\n",
       "      <td>20.136456</td>\n",
       "      <td>0.0</td>\n",
       "      <td>7.041840</td>\n",
       "      <td>0</td>\n",
       "      <td>0.0</td>\n",
       "      <td>0.0</td>\n",
       "      <td>0.0</td>\n",
       "      <td>0.0</td>\n",
       "      <td>0.0</td>\n",
       "    </tr>\n",
       "    <tr>\n",
       "      <th>3</th>\n",
       "      <td>2014-01-01 04:00:00</td>\n",
       "      <td>112.675883</td>\n",
       "      <td>104.583206</td>\n",
       "      <td>89.466250</td>\n",
       "      <td>102.997644</td>\n",
       "      <td>104.665578</td>\n",
       "      <td>99.789910</td>\n",
       "      <td>109.068352</td>\n",
       "      <td>105.225478</td>\n",
       "      <td>89.936689</td>\n",
       "      <td>...</td>\n",
       "      <td>307.382951</td>\n",
       "      <td>20.575986</td>\n",
       "      <td>0.0</td>\n",
       "      <td>7.041840</td>\n",
       "      <td>0</td>\n",
       "      <td>0.0</td>\n",
       "      <td>0.0</td>\n",
       "      <td>0.0</td>\n",
       "      <td>0.0</td>\n",
       "      <td>0.0</td>\n",
       "    </tr>\n",
       "    <tr>\n",
       "      <th>4</th>\n",
       "      <td>2014-01-01 05:00:00</td>\n",
       "      <td>112.616966</td>\n",
       "      <td>103.299966</td>\n",
       "      <td>88.066110</td>\n",
       "      <td>103.494967</td>\n",
       "      <td>103.621662</td>\n",
       "      <td>98.743733</td>\n",
       "      <td>107.872014</td>\n",
       "      <td>104.348570</td>\n",
       "      <td>92.098251</td>\n",
       "      <td>...</td>\n",
       "      <td>330.187506</td>\n",
       "      <td>21.801214</td>\n",
       "      <td>0.0</td>\n",
       "      <td>7.041840</td>\n",
       "      <td>0</td>\n",
       "      <td>0.0</td>\n",
       "      <td>0.0</td>\n",
       "      <td>0.0</td>\n",
       "      <td>0.0</td>\n",
       "      <td>0.0</td>\n",
       "    </tr>\n",
       "  </tbody>\n",
       "</table>\n",
       "<p>5 rows × 404 columns</p>\n",
       "</div>"
      ],
      "text/plain": [
       "                 Time           1           2          3           4  \\\n",
       "0 2014-01-01 01:00:00  120.571603  111.767169  94.704227  111.534600   \n",
       "1 2014-01-01 02:00:00  117.721674  109.209159  92.522162  108.762466   \n",
       "2 2014-01-01 03:00:00  115.322464  106.414135  91.410476  105.823125   \n",
       "3 2014-01-01 04:00:00  112.675883  104.583206  89.466250  102.997644   \n",
       "4 2014-01-01 05:00:00  112.616966  103.299966  88.066110  103.494967   \n",
       "\n",
       "            5           6           7           8          9  ...         394  \\\n",
       "0  112.324040  105.474302  116.819209  112.306686  94.855857  ...  321.402590   \n",
       "1  108.647752  102.547442  114.046784  109.675149  92.956992  ...  311.390285   \n",
       "2  107.199958  101.402505  111.645922  107.287682  91.244556  ...  304.154413   \n",
       "3  104.665578   99.789910  109.068352  105.225478  89.936689  ...  307.382951   \n",
       "4  103.621662   98.743733  107.872014  104.348570  92.098251  ...  330.187506   \n",
       "\n",
       "         395  396       397  398  399  400  401  402  403  \n",
       "0  21.135003  0.0  7.112277    0  0.0  0.0  0.0  0.0  0.0  \n",
       "1  20.331148  0.0  7.041840    0  0.0  0.0  0.0  0.0  0.0  \n",
       "2  20.136456  0.0  7.041840    0  0.0  0.0  0.0  0.0  0.0  \n",
       "3  20.575986  0.0  7.041840    0  0.0  0.0  0.0  0.0  0.0  \n",
       "4  21.801214  0.0  7.041840    0  0.0  0.0  0.0  0.0  0.0  \n",
       "\n",
       "[5 rows x 404 columns]"
      ]
     },
     "execution_count": 6,
     "metadata": {},
     "output_type": "execute_result"
    }
   ],
   "source": [
    "df = pd.DataFrame()\n",
    "\n",
    "for f in range(2014,2019):\n",
    "    path = '15kV Utility Feeder Loading ' + str(f) + '.xlsx'\n",
    "    print('Opening ',path)\n",
    "    data = pd.read_excel(path,\n",
    "                         parse_dates=['Time'],\n",
    "                   )\n",
    "    df = df.append(data)\n",
    "\n",
    "df['Time'] = pd.to_datetime(df['Time'])\n",
    "df.head()"
   ]
  },
  {
   "cell_type": "code",
   "execution_count": 8,
   "metadata": {},
   "outputs": [],
   "source": [
    "df.set_index('Time', inplace=True) #Set the index as time"
   ]
  },
  {
   "cell_type": "code",
   "execution_count": 9,
   "metadata": {},
   "outputs": [
    {
     "data": {
      "text/plain": [
       "Time\n",
       "2014-01-01     881.464236\n",
       "2014-01-02    1029.014587\n",
       "2014-01-03    1049.607203\n",
       "2014-01-04    1020.774390\n",
       "2014-01-05    1037.748444\n",
       "                 ...     \n",
       "2018-12-27    1011.967883\n",
       "2018-12-28    1010.097062\n",
       "2018-12-29     933.023924\n",
       "2018-12-30     941.562430\n",
       "2018-12-31      38.073265\n",
       "Freq: D, Length: 1826, dtype: float64"
      ]
     },
     "execution_count": 9,
     "metadata": {},
     "output_type": "execute_result"
    }
   ],
   "source": [
    "#Get daily sum of load (unit : kA)\n",
    "df.resample('D').sum().sum(axis=1)/1000 "
   ]
  },
  {
   "cell_type": "code",
   "execution_count": 10,
   "metadata": {},
   "outputs": [
    {
     "data": {
      "text/plain": [
       "Time\n",
       "2014-01-31    32024.644458\n",
       "2014-02-28    29832.251921\n",
       "2014-03-31    31569.457810\n",
       "2014-04-30    28955.713692\n",
       "2014-05-31    29707.872786\n",
       "2014-06-30    29034.454139\n",
       "2014-07-31    32516.213223\n",
       "2014-08-31    31060.456845\n",
       "2014-09-30    29831.127569\n",
       "2014-10-31    30670.451967\n",
       "2014-11-30    31835.113685\n",
       "2014-12-31    32145.928386\n",
       "2015-01-31    31547.037386\n",
       "2015-02-28    28318.711859\n",
       "2015-03-31    29860.559225\n",
       "2015-04-30    28584.895934\n",
       "2015-05-31    29788.168507\n",
       "2015-06-30    31114.612365\n",
       "2015-07-31    32726.849037\n",
       "2015-08-31    31961.749822\n",
       "2015-09-30    29804.268563\n",
       "2015-10-31    31039.648434\n",
       "2015-11-30    31409.895138\n",
       "2015-12-31    32145.972893\n",
       "2016-01-31    33051.978505\n",
       "2016-02-29    30023.605010\n",
       "2016-03-31    30808.479560\n",
       "2016-04-30    29285.559386\n",
       "2016-05-31    30426.071574\n",
       "2016-06-30    30840.022868\n",
       "2016-07-31    31098.830345\n",
       "2016-08-31    31138.644023\n",
       "2016-09-30    29463.152327\n",
       "2016-10-31    30874.950975\n",
       "2016-11-30    30847.690884\n",
       "2016-12-31    33045.914735\n",
       "2017-01-31    33013.905050\n",
       "2017-02-28    29584.885007\n",
       "2017-03-31    31898.139174\n",
       "2017-04-30    29075.828357\n",
       "2017-05-31    31143.839683\n",
       "2017-06-30    30469.579539\n",
       "2017-07-31    33165.961543\n",
       "2017-08-31    31758.139787\n",
       "2017-09-30    29792.988505\n",
       "2017-10-31    30469.168513\n",
       "2017-11-30    31189.673779\n",
       "2017-12-31    31179.951043\n",
       "2018-01-31    32955.614849\n",
       "2018-02-28    30133.756861\n",
       "2018-03-31    31497.895455\n",
       "2018-04-30    29636.885548\n",
       "2018-05-31    30862.092525\n",
       "2018-06-30    29849.701914\n",
       "2018-07-31    31721.143896\n",
       "2018-08-31    31592.503649\n",
       "2018-09-30    28741.960704\n",
       "2018-10-31    30518.349395\n",
       "2018-11-30    30222.459726\n",
       "2018-12-31    30408.334778\n",
       "Freq: M, dtype: float64"
      ]
     },
     "execution_count": 10,
     "metadata": {},
     "output_type": "execute_result"
    }
   ],
   "source": [
    "#Get monthly sum of load (unit : kA)\n",
    "df.resample('M').sum().sum(axis=1)/1000"
   ]
  },
  {
   "cell_type": "code",
   "execution_count": 21,
   "metadata": {},
   "outputs": [],
   "source": [
    "#Get hourly sum of load (unit : A)\n",
    "output = df.sum(axis=1).reset_index(name='total-load')"
   ]
  },
  {
   "cell_type": "code",
   "execution_count": 23,
   "metadata": {},
   "outputs": [],
   "source": [
    "output.to_csv('total_load.csv',index=False)"
   ]
  }
 ],
 "metadata": {
  "kernelspec": {
   "display_name": "Python 3.10.2 64-bit",
   "language": "python",
   "name": "python3"
  },
  "language_info": {
   "codemirror_mode": {
    "name": "ipython",
    "version": 3
   },
   "file_extension": ".py",
   "mimetype": "text/x-python",
   "name": "python",
   "nbconvert_exporter": "python",
   "pygments_lexer": "ipython3",
   "version": "3.10.2"
  },
  "orig_nbformat": 4,
  "vscode": {
   "interpreter": {
    "hash": "46191dbdb88b4bafe11bd59d82e06968aa652861c04b70af0d6a529f7503f596"
   }
  }
 },
 "nbformat": 4,
 "nbformat_minor": 2
}
